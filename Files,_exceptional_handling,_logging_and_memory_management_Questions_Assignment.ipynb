{
  "nbformat": 4,
  "nbformat_minor": 0,
  "metadata": {
    "colab": {
      "provenance": []
    },
    "kernelspec": {
      "name": "python3",
      "display_name": "Python 3"
    },
    "language_info": {
      "name": "python"
    }
  },
  "cells": [
    {
      "cell_type": "markdown",
      "source": [
        "#Theoritical Questions"
      ],
      "metadata": {
        "id": "Ln15PLfXxiOt"
      }
    },
    {
      "cell_type": "markdown",
      "source": [
        "[1] **What is the difference between interpreted and compiled languages?**\n",
        "\n",
        "=> Interpreted languages: (e.g., Python) execute code line-by-line at runtime using an interpreter. They are slower but easier to debug.\n",
        "\n",
        "Compiled languages: (e.g., C, C++) translate the whole source code into machine code before execution, resulting in faster performance but requiring recompilation after changes."
      ],
      "metadata": {
        "id": "S6-z7e8_yGaR"
      }
    },
    {
      "cell_type": "markdown",
      "source": [
        "[2] **What is Exception Handling in Python?**\n",
        "\n",
        "=> Exception handling in Python is a mechanism that allows a program to detect and manage runtime errors (exceptions) without terminating unexpectedly. It ensures the normal flow of the program even when errors occur.\n",
        "\n",
        "It is implemented using the following keywords:\n",
        "\n",
        "* Try – Contains the code that may raise an exception.\n",
        "\n",
        "* Except – Defines a block of code to handle the specific exception.\n",
        "\n",
        "* Else – Executes only if no exception occurs in the try block.\n",
        "\n",
        "* Finally – Executes regardless of whether an exception occurred or not, often used for cleanup operations.\n",
        "\n",
        "\n",
        "\n"
      ],
      "metadata": {
        "id": "KjWLThq3ybu0"
      }
    },
    {
      "cell_type": "markdown",
      "source": [
        "[3] **What is the purpose of the finally block in exception handling?**\n",
        "\n",
        "=> The finally block in Python is used in exception handling to define a section of code that will always execute, regardless of whether an exception occurs in the try block or not.\n",
        "\n",
        "It is commonly used for cleanup operations such as closing files, releasing resources, or disconnecting from a database.\n",
        "\n",
        "Key Points:\n",
        "\n",
        "* Executes whether an exception is raised or not.\n",
        "\n",
        "* Executes even if a return statement is present in the try or except block.\n",
        "\n",
        "* Only bypassed if the program is forcibly terminated (e.g., os._exit() or system crash)."
      ],
      "metadata": {
        "id": "WIZ3PBYwzK2d"
      }
    },
    {
      "cell_type": "markdown",
      "source": [
        "[4] **What is Logging in Python?**\n",
        "\n",
        "=> Logging in Python is the process of recording messages about a program's execution for debugging, monitoring, and maintenance.\n",
        "\n",
        "It is done using the built-in logging module.\n",
        "\n",
        "* Common Levels:\n",
        "\n",
        "DEBUG – Detailed debug info\n",
        "\n",
        "INFO – General execution info\n",
        "\n",
        "WARNING – Possible issue\n",
        "\n",
        "ERROR – Error occurred\n",
        "\n",
        "CRITICAL – Severe error\n",
        "\n",
        "* Purpose:\n",
        "\n",
        "To track events and errors without stopping the program."
      ],
      "metadata": {
        "id": "fzV-9eotzpe1"
      }
    },
    {
      "cell_type": "markdown",
      "source": [
        "[5] **What is the significance of the _ _ del _ _ method in Python?**\n",
        "\n",
        "=> The _ _ del _ _ method in Python is a destructor that is automatically called when an object is about to be destroyed. It is used to perform cleanup tasks, such as closing files or releasing resources.\n",
        "\n",
        "* Key Points:\n",
        "\n",
        "Defined inside a class as def del(self):\n",
        "\n",
        "Called by Python’s garbage collector when there are no more references to the object.\n",
        "\n",
        "Not guaranteed to be called immediately after the object goes out of scope.\n",
        "\n",
        "* Purpose:\n",
        "\n",
        "To ensure resources are released before an object is removed from memory."
      ],
      "metadata": {
        "id": "zCsgJP-2z7yl"
      }
    },
    {
      "cell_type": "markdown",
      "source": [
        "[6] **What is the difference between import and from ... import in Python?**\n",
        "\n",
        "=> Import module: Imports the entire module; functions or variables must be accessed using the module name.\n",
        "\n",
        "=> From module import name: Imports specific items from a module; can be used directly without the module prefix.\n",
        "\n",
        "* Example:\n",
        "\n",
        "import math\n",
        "\n",
        "print(math.sqrt(16))   # Using module name\n",
        "\n",
        "from math import sqrt\n",
        "\n",
        "print(sqrt(16))        # Direct use\n",
        "\n",
        "* Key Point:\n",
        "\n",
        "import loads the whole module, while from ... import loads only selected parts."
      ],
      "metadata": {
        "id": "Lr_ffJaH0Oht"
      }
    },
    {
      "cell_type": "markdown",
      "source": [
        "[7] **How can you handle multiple exceptions in Python?**\n",
        "\n",
        "=> Multiple exceptions can be handled by:\n",
        "\n",
        "* Using multiple except blocks – Each block handles a specific exception.\n",
        "\n",
        "* Grouping exceptions in a tuple – A single except block can catch multiple types.\n",
        "\n",
        "Purpose:\n",
        "\n",
        "To manage different error types separately or together for cleaner and more specific error handling."
      ],
      "metadata": {
        "id": "up0AjKQU_zUf"
      }
    },
    {
      "cell_type": "markdown",
      "source": [
        "[8] **What is the Purpose of the with statement when handling files in Python?**\n",
        "\n",
        "=> The with statement is used to open and manage files (or other resources) in Python.\n",
        "\n",
        "It ensures the file is automatically closed after the block of code is executed, even if an error occurs.\n",
        "\n",
        "* Purpose:\n",
        "\n",
        "Simplifies file handling.\n",
        "\n",
        "Prevents resource leaks.\n",
        "\n",
        "Makes code cleaner and more readable.\n",
        "\n",
        "* Examples:\n",
        "\n",
        "\n",
        "  \n",
        "     with open(\"data.txt\", \"r\") as file:\n",
        "     content=file.read ( )\n",
        "     # File is automatically closed here.\n",
        "\n"
      ],
      "metadata": {
        "id": "dUuVA18MAf1A"
      }
    },
    {
      "cell_type": "markdown",
      "source": [
        "[9] **What is the difference between Multithreading and Multiprocessing?**\n",
        "\n",
        "=> Multithreading: Runs multiple threads within the same process, sharing the same memory space.\n",
        "\n",
        "Best for I/O-bound tasks.\n",
        "\n",
        "* Example: reading files, network requests.\n",
        "Multiprocessing: Runs multiple processes, each with its own memory space.\n",
        "\n",
        "Best for CPU-bound tasks.\n",
        "\n",
        "* Example: heavy calculations, data processing.\n",
        "\n",
        "* Key Point:\n",
        "\n",
        "Threads share memory (faster but risk of conflicts), processes are isolated (safer but use more resources)."
      ],
      "metadata": {
        "id": "mwuIHDNMHuMi"
      }
    },
    {
      "cell_type": "markdown",
      "source": [
        "[10] **What are the dvantages of using Logging in a Program?**\n",
        "\n",
        "=> Logging is used to debug, monitor, and maintain applications effectively.\n",
        "\n",
        "* Tracks program execution: Helps monitor program flow.\n",
        "\n",
        "* Records errors and warnings: Useful for debugging.\n",
        "\n",
        "* Non-intrusive: Does not interrupt program execution.\n",
        "\n",
        "* Configurable: Can set different logging levels (DEBUG, INFO, etc.).\n",
        "\n",
        "* Persistent: Can save logs to files for later analysis."
      ],
      "metadata": {
        "id": "nH4BptIYB2xP"
      }
    },
    {
      "cell_type": "markdown",
      "source": [
        "[11] **What is Memory Management in Python?**\n",
        "\n",
        "=> Memory management in Python is the process of allocating, tracking, and releasing memory used by Python objects during program execution.\n",
        "\n",
        "It is automatic, meaning the programmer does not need to manually free memory.\n",
        "\n",
        "* Key Points:\n",
        "\n",
        "Private Heap Space: All objects are stored in a special memory area managed by Python.\n",
        "\n",
        "Reference Counting: Keeps track of how many references point to an object; deletes the object when count becomes zero.\n",
        "\n",
        "Garbage Collection: Removes unused objects, including those in reference cycles.\n",
        "\n",
        "Memory Manager: Handles allocation and deallocation internally.\n",
        "\n",
        "* Purpose:\n",
        "\n",
        "To optimize memory usage, prevent memory leaks, and simplify programming."
      ],
      "metadata": {
        "id": "p1XQjSKICIvw"
      }
    },
    {
      "cell_type": "markdown",
      "source": [
        "[12] **What are the basic steps involved in Exception Handling in Python?**\n",
        "\n",
        "=> Exception handling in Python is used to prevent program crashes and handle errors gracefully.\n",
        "\n",
        "Basic Steps:\n",
        "\n",
        "* Try block: Write the code that might raise an exception.\n",
        "\n",
        "* Except block: Handle the specific exception if it occurs.\n",
        "\n",
        "* Else block: (Optional) Runs if no exception occurs in the try block.\n",
        "\n",
        "* Finally block: (Optional) Runs regardless of whether an exception occurred, usually for cleanup tasks."
      ],
      "metadata": {
        "id": "dfytTdbjCVSe"
      }
    },
    {
      "cell_type": "markdown",
      "source": [
        "[13] **Why is memory management important in Python?**\n",
        "\n",
        "=> Memory management is important in Python because it:\n",
        "\n",
        "* Prevents memory leaks: Ensures unused objects are removed from memory.\n",
        "\n",
        "* Optimizes performance: Efficient memory usage makes programs run faster.\n",
        "\n",
        "* Improves stability: Reduces the risk of crashes due to memory exhaustion.\n",
        "\n",
        "* Simplifies coding: Programmers do not need to manually allocate or free memory.\n",
        "\n",
        "Proper memory management allows, Python programs to run efficiently, reliably, and without unnecessary resource consumption."
      ],
      "metadata": {
        "id": "KHsldYV9Cpjh"
      }
    },
    {
      "cell_type": "markdown",
      "source": [
        "[14] **What is the role of try and except in Exception Handling?**\n",
        "\n",
        "=> In Python, the try and except statements are used to handle runtime errors gracefully.\n",
        "\n",
        "try block: Contains the code that may raise an exception. If no exception occurs, the except block is skipped.\n",
        "\n",
        "except block: Executes only if an exception is raised in the try block, allowing the program to handle the error instead of crashing."
      ],
      "metadata": {
        "id": "k0m9OUcNDIza"
      }
    },
    {
      "cell_type": "markdown",
      "source": [
        "[15] **How does Python's Garbage Collection System Work?**\n",
        "\n",
        "=> Python's garbage collection works by combining reference counting and cycle detection, ensuring efficient memory management and preventing memory leaks.\n",
        "\n",
        "1. Reference Counting:\n",
        "\n",
        "* Every Python object has a reference count, which tracks how many variables or data structures refer to it.\n",
        "\n",
        "* When this count drops to zero, the object is immediately deleted from memory.\n",
        "\n",
        "2. Cyclic Garbage Collection:\n",
        "\n",
        "* Reference counting cannot handle reference cycles (objects referring to each other).\n",
        "\n",
        "* Python's cyclic garbage collector periodically checks for such cycles and removes them.\n",
        "\n",
        "3. Garbage Collection Process:\n",
        "\n",
        "* Runs automatically at certain intervals.\n",
        "\n",
        "* Can also be triggered manually using the gc module (gc.collect())."
      ],
      "metadata": {
        "id": "NMRP6U93DRfK"
      }
    },
    {
      "cell_type": "markdown",
      "source": [
        "[16] **What is the purpose of the else Block in Exception Handling?**\n",
        "\n",
        "=> The else block in Python's exception handling is used to specify a section of code that should run only if no exception occurs in the try block. It helps keep the normal execution logic separate from the error-handling logic, making the program more readable and organized."
      ],
      "metadata": {
        "id": "CUi7OwvjDq8n"
      }
    },
    {
      "cell_type": "markdown",
      "source": [
        "[17] **What are the common Logging Levels in Python?**\n",
        "\n",
        "=> These are used to categorize log messages by severity and help developers monitor and troubleshoot programs effectively.\n",
        "\n",
        "Python's logging module provides different logging levels to indicate the severity of events:\n",
        "\n",
        "* DEBUG: Detailed diagnostic information, used for debugging.\n",
        "\n",
        "* INFO: General information about program execution.\n",
        "\n",
        "* WARNING: Indicates a potential problem that does not stop the program.\n",
        "\n",
        "* ERROR: Reports a serious issue that has occurred.\n",
        "\n",
        "* CRITICAL: Indicates a very severe error that may cause the program to stop."
      ],
      "metadata": {
        "id": "7BED9X1dDwS9"
      }
    },
    {
      "cell_type": "markdown",
      "source": [
        "[18] **What is the difference between os.fork() and Multiprocessing in Python?**\n",
        "\n",
        "* os.fork():\n",
        "\n",
        "Creates a new child process by duplicating the current process.\n",
        "\n",
        "Available only on Unix/Linux systems.\n",
        "\n",
        "Lower-level function, requires manual handling of process management.\n",
        "\n",
        "* Multiprocessing Module:\n",
        "\n",
        "Cross-platform (works on Windows, Linux, macOS).\n",
        "\n",
        "Provides a higher-level API for creating and managing multiple processes.\n",
        "\n",
        "Easier to use, supports process pools, inter-process communication, and data sharing.\n",
        "\n",
        "Therefore, os.fork() is platform-dependent and low-level, while the multiprocessing module is portable and easier to use for parallel processing."
      ],
      "metadata": {
        "id": "5IfVjmDyEBH0"
      }
    },
    {
      "cell_type": "markdown",
      "source": [
        "[19] **What is the importance of Closing a File in Python?**\n",
        "\n",
        "=> Closing a file means terminating the connection between the file and the program using the close() method.\n",
        "\n",
        "Importance:\n",
        "\n",
        "* Frees system resources: Releases memory and file handles used by the program.\n",
        "\n",
        "* Ensures data is saved: Writes any buffered data to the file before closing.\n",
        "\n",
        "* Prevents data corruption: Avoids incomplete writes or file damage.\n",
        "\n",
        "* Allows reuse of the file: Some systems limit the number of open files."
      ],
      "metadata": {
        "id": "R9C4XkIbEU3e"
      }
    },
    {
      "cell_type": "markdown",
      "source": [
        "[20] **What is the difference between file.read() and file.readline() in Python?**\n",
        "\n",
        "=>\n",
        "\n",
        "1. file.read():\n",
        "\n",
        "* Reads the entire file content as a single string (or a specified number of characters if given).\n",
        "\n",
        "* Useful when you want all file data at once.\n",
        "\n",
        "2. file.readline():\n",
        "\n",
        "* Reads only one line from the file at a time (including the newline character \\n).\n",
        "\n",
        "* Useful for reading files line-by-line in a loop.\n",
        "\n",
        "Key Difference:\n",
        "\n",
        "read() returns the whole file or specified characters, while readline() returns a single line from the file."
      ],
      "metadata": {
        "id": "EnlC0xB1ElxQ"
      }
    },
    {
      "cell_type": "markdown",
      "source": [
        "[21] **What is the Logging Module in Python Used For?**\n",
        "\n",
        "=> The logging module in Python is used to record (log) messages about a program's execution, which can help in debugging, monitoring, and troubleshooting.\n",
        "\n",
        "* Purpose:\n",
        "\n",
        "     Track program execution: Helps understand the flow of a program.\n",
        "\n",
        "     Record errors and warnings: Captures issues for later analysis.\n",
        "\n",
        "     Debugging: Logs detailed information for developers.\n",
        "\n",
        "     Audit trails: Keeps a history of important events.\n",
        "\n",
        "The logging module provides, a standardized way to capture and store runtime information, making programs easier to maintain and debug."
      ],
      "metadata": {
        "id": "yBQl6kyXFDT1"
      }
    },
    {
      "cell_type": "markdown",
      "source": [
        "[22] **What is the os Module in Python Used for in File Handling?**\n",
        "\n",
        "=> The os module in Python provides functions to interact with the operating system, including file and directory operations.\n",
        "\n",
        "* Uses in File Handling:\n",
        "\n",
        "Creating and removing directories – os.mkdir(), os.rmdir()\n",
        "\n",
        "Listing files – os.listdir()\n",
        "\n",
        "Checking file existence – os.path.exists()\n",
        "\n",
        "Deleting files – os.remove()\n",
        "\n",
        "Getting file information – os.stat()\n",
        "\n",
        "Working with file paths – os.path.join(), os.path.abspath()"
      ],
      "metadata": {
        "id": "3vjSOzMFFgSq"
      }
    },
    {
      "cell_type": "markdown",
      "source": [
        "[23] **What are the challenges Associated with Memory Management in Python?**\n",
        "\n",
        "=> Memory management in Python involves allocating and freeing memory for objects during program execution.\n",
        "\n",
        "* Challenges associated with memory management:\n",
        "\n",
        "1. Reference cycles: Objects referring to each other can create circular references, which are harder for garbage collection to clear.\n",
        "\n",
        "2. Memory leaks: Caused by unused objects still being referenced somewhere in the code.\n",
        "\n",
        "3. High memory usage: Large datasets or inefficient data structures can quickly consume memory.\n",
        "\n",
        "4. Garbage collection overhead: Frequent garbage collection can slow down performance.\n",
        "\n",
        "5. External resources: Memory used by external libraries or C extensions may not be released automatically."
      ],
      "metadata": {
        "id": "kBSkzzuJFzKz"
      }
    },
    {
      "cell_type": "markdown",
      "source": [
        "[24] **How Do You Raise an Exception Manually in Python?**\n",
        "\n",
        "=> In Python, exceptions can be raised manually using the raise keyword when a specific error condition occurs in the program.\n",
        "\n",
        "* Syntax:\n",
        "\n",
        "         raise ExceptionType(\"Error message\")\n",
        "\n",
        "\n",
        "* Example:\n",
        "\n",
        "         age = -5\n",
        "         if age < 0:\n",
        "         raise ValueError(\"Age cannot be negative\")\n",
        "\n",
        "* Explanation:\n",
        "\n",
        "1. raise keyword is used to trigger an exception.\n",
        "\n",
        "2. one can raise built-in exceptions (like ValueError, TypeError) or custom exceptions created by subclassing Exception.\n",
        "\n",
        "Manually raising exceptions allows, developers to enforce rules, validate inputs, and handle unexpected situations effectively.\n"
      ],
      "metadata": {
        "id": "nZ5Pon4nGE_M"
      }
    },
    {
      "cell_type": "markdown",
      "source": [
        "[25] **Why Is It Important to Use Multithreading in Certain Applications?**\n",
        "\n",
        "=> Multithreading is a programming technique where multiple threads run concurrently within a single process, sharing the same memory space.\n",
        "\n",
        "**Importance:**\n",
        "\n",
        "1. Improves performance: Allows multiple tasks to run seemingly at the same time, reducing waiting time.\n",
        "\n",
        "2. Better resource utilization: Makes efficient use of CPU when tasks involve waiting (e.g., I/O operations).\n",
        "\n",
        "3. Responsive applications: Keeps programs interactive while performing background tasks.\n",
        "\n",
        "4. Parallelism in I/O-bound tasks: Ideal for file handling, network communication, or database queries where CPU is idle during waits.\n",
        "\n",
        "Multithreading, is important for improving responsiveness and efficiency in applications, especially those involving I/O-bound operations or real-time interaction."
      ],
      "metadata": {
        "id": "FBoJaanLG1Wo"
      }
    },
    {
      "cell_type": "markdown",
      "source": [
        "#Practical Questions"
      ],
      "metadata": {
        "id": "F7uDEzwj1Qxq"
      }
    },
    {
      "cell_type": "code",
      "source": [
        "[1] #How can you open a file for writing in Python and write a string to it\n",
        "\n",
        "with open(\"file.txt\", \"w\") as f:\n",
        "    f.write(\"Welcome to PW Skills Assignment!\")"
      ],
      "metadata": {
        "id": "Y1ki7YtPx-Uq"
      },
      "execution_count": null,
      "outputs": []
    },
    {
      "cell_type": "code",
      "source": [
        "[2] #Write a Python program to read the contents of a file and print each line.\n",
        "\n",
        "with open(\"file.txt\", 'r') as f:\n",
        "    line = f.readline()\n",
        "    print(line)\n"
      ],
      "metadata": {
        "colab": {
          "base_uri": "https://localhost:8080/"
        },
        "id": "rm0mqr801n6D",
        "outputId": "a7bbcd8f-34e6-46ea-f471-2468ae07caf2"
      },
      "execution_count": null,
      "outputs": [
        {
          "output_type": "stream",
          "name": "stdout",
          "text": [
            "Welcome to PW Skills Assignment!\n"
          ]
        }
      ]
    },
    {
      "cell_type": "code",
      "source": [
        "[3] #How would you handle a case where the file doesn't exist while\n",
        "#    trying to open it for reading?\n",
        "\n",
        "try:\n",
        "    with open(\"missing.txt\", \"r\") as f:\n",
        "        print(f.read())\n",
        "except FileNotFoundError:\n",
        "    print(\"File not found.\")"
      ],
      "metadata": {
        "colab": {
          "base_uri": "https://localhost:8080/"
        },
        "id": "JAT2JB062C9a",
        "outputId": "863eaeaf-942a-4a28-816d-9a83a2270586"
      },
      "execution_count": null,
      "outputs": [
        {
          "output_type": "stream",
          "name": "stdout",
          "text": [
            "File not found.\n"
          ]
        }
      ]
    },
    {
      "cell_type": "code",
      "source": [
        "[4] #Write a Python script that reads from one file and writes its content in\n",
        "#    another file.\n",
        "\n",
        "with open(\"file.txt\", \"r\") as src, open(\"destination.txt\", \"w\") as dest:\n",
        "    dest.write(src.read())\n",
        "    print(\"File copied successfully.\")"
      ],
      "metadata": {
        "colab": {
          "base_uri": "https://localhost:8080/"
        },
        "id": "a-aAN5qy2PRs",
        "outputId": "a1f4385e-f2a2-4981-abfe-30d6b55c00c1"
      },
      "execution_count": null,
      "outputs": [
        {
          "output_type": "stream",
          "name": "stdout",
          "text": [
            "File copied successfully.\n"
          ]
        }
      ]
    },
    {
      "cell_type": "code",
      "source": [
        "[5] #How would you catch and handle division by zero error in Python?\n",
        "\n",
        "try:\n",
        "    result = 10 / 0\n",
        "except ZeroDivisionError:\n",
        "    print(\"Error: Division by zero.\")"
      ],
      "metadata": {
        "colab": {
          "base_uri": "https://localhost:8080/"
        },
        "id": "PrNwqywQ2Ryj",
        "outputId": "b8b429d9-a4b3-41ea-dd18-697859cbee33"
      },
      "execution_count": null,
      "outputs": [
        {
          "output_type": "stream",
          "name": "stdout",
          "text": [
            "Error: Division by zero.\n"
          ]
        }
      ]
    },
    {
      "cell_type": "code",
      "source": [
        "[6] #Write a Python program that logs an error message to a log file\n",
        "#     when a division by zero exception occurs.\n",
        "\n",
        "import logging\n",
        "\n",
        "# Configure logging\n",
        "logging.basicConfig(\n",
        "    filename=\"error_log.txt\",  # Log file name\n",
        "    level=logging.ERROR,       # Log level\n",
        "    format=\"%(asctime)s - %(levelname)s - %(message)s\"\n",
        ")\n",
        "\n",
        "try:\n",
        "    # Example division operation\n",
        "    num1 = 10\n",
        "    num2 = 0\n",
        "    result = num1 / num2  # This will cause ZeroDivisionError\n",
        "except ZeroDivisionError as e:\n",
        "    logging.error(\"Division by zero error occurred: %s\", e)\n",
        "\n",
        "print(\"Program completed. Check 'error_log.txt' for details.\")\n"
      ],
      "metadata": {
        "colab": {
          "base_uri": "https://localhost:8080/"
        },
        "id": "EJR13bc02xh8",
        "outputId": "61040030-fefc-4696-a9f9-bc90be8bc207"
      },
      "execution_count": null,
      "outputs": [
        {
          "output_type": "stream",
          "name": "stderr",
          "text": [
            "ERROR:root:Division by zero error occurred: division by zero\n"
          ]
        },
        {
          "output_type": "stream",
          "name": "stdout",
          "text": [
            "Program completed. Check 'error_log.txt' for details.\n"
          ]
        }
      ]
    },
    {
      "cell_type": "code",
      "source": [
        "[7] #How do you log information at different levels (INFO, ERROR, WARNING)\n",
        "#    in Python using the logging module?\n",
        "\n",
        "import logging\n",
        "\n",
        "# Configure logging\n",
        "logging.basicConfig(\n",
        "    filename=\"app.log\",       # Log file\n",
        "    level=logging.DEBUG,      # Minimum log level to capture\n",
        "    format=\"%(asctime)s - %(levelname)s - %(message)s\"\n",
        ")\n",
        "\n",
        "# Log messages at different levels\n",
        "logging.debug(\"This is a DEBUG message (useful for debugging).\")\n",
        "logging.info(\"This is an INFO message (general information).\")\n",
        "logging.warning(\"This is a WARNING message (something unexpected).\")\n",
        "logging.error(\"This is an ERROR message (a serious issue).\")\n",
        "logging.critical(\"This is a CRITICAL message (very serious problem).\")\n",
        "\n",
        "print(\"Logs have been written to app.log\")\n"
      ],
      "metadata": {
        "colab": {
          "base_uri": "https://localhost:8080/"
        },
        "id": "usUZqhQb2_MY",
        "outputId": "7ddc3670-643d-491c-a8ec-9c85ccad6a0a"
      },
      "execution_count": null,
      "outputs": [
        {
          "output_type": "stream",
          "name": "stderr",
          "text": [
            "WARNING:root:This is a WARNING message (something unexpected).\n",
            "ERROR:root:This is an ERROR message (a serious issue).\n",
            "CRITICAL:root:This is a CRITICAL message (very serious problem).\n"
          ]
        },
        {
          "output_type": "stream",
          "name": "stdout",
          "text": [
            "Logs have been written to app.log\n"
          ]
        }
      ]
    },
    {
      "cell_type": "code",
      "source": [
        "[8] #Write a program to handle a file opening error using exception handling.\n",
        "\n",
        "try:\n",
        "    # Attempt to open a file that may not exist\n",
        "    with open(\"non_existent_file.txt\", \"r\") as file:\n",
        "        content = file.read()\n",
        "        print(content)\n",
        "\n",
        "except FileNotFoundError as e:\n",
        "    print(f\"Error: The file could not be found. Details: {e}\")\n",
        "\n",
        "except PermissionError as e:\n",
        "    print(f\"Error: You do not have permission to open this file. Details: {e}\")\n",
        "\n",
        "except Exception as e:\n",
        "    print(f\"An unexpected error occurred: {e}\")\n",
        "\n",
        "finally:\n",
        "    print(\"File handling attempt complete.\")\n"
      ],
      "metadata": {
        "colab": {
          "base_uri": "https://localhost:8080/"
        },
        "id": "FunTsRgR3Q0N",
        "outputId": "979abced-2496-4edf-a248-b65789e8c2be"
      },
      "execution_count": null,
      "outputs": [
        {
          "output_type": "stream",
          "name": "stdout",
          "text": [
            "Error: The file could not be found. Details: [Errno 2] No such file or directory: 'non_existent_file.txt'\n",
            "File handling attempt complete.\n"
          ]
        }
      ]
    },
    {
      "cell_type": "code",
      "source": [
        "[10] #How can you append data to an existing file in Python?\n",
        "\n",
        "# Appending data to a file\n",
        "filename = \"example.txt\"\n",
        "\n",
        "with open(filename, \"a\") as file:\n",
        "    file.write(\"\\nThis is a new line of text.\")\n",
        "\n",
        "print(\"Data appended successfully!\")\n"
      ],
      "metadata": {
        "colab": {
          "base_uri": "https://localhost:8080/"
        },
        "id": "sg0TRubI4m0t",
        "outputId": "2e8edad9-0eed-4e0d-bde8-15bbe89615b5"
      },
      "execution_count": null,
      "outputs": [
        {
          "output_type": "stream",
          "name": "stdout",
          "text": [
            "Data appended successfully!\n"
          ]
        }
      ]
    },
    {
      "cell_type": "code",
      "source": [
        "[11] #Write a Python program that uses a try-except block to handle an error when attempting to access adictionary key that doesn't exist\n",
        "\n",
        "# Dictionary\n",
        "my_dict = {\"name\": \"Alice\", \"age\": 25}\n",
        "\n",
        "try:\n",
        "    # Attempt to access a non-existent key\n",
        "    value = my_dict[\"city\"]\n",
        "    print(f\"City: {value}\")\n",
        "\n",
        "except KeyError:\n",
        "    print(\"Error: The key 'city' does not exist in the dictionary.\")\n"
      ],
      "metadata": {
        "colab": {
          "base_uri": "https://localhost:8080/"
        },
        "id": "XLmpB65w4xSD",
        "outputId": "731ca7de-d3f0-484f-8757-5c5f03f4857b"
      },
      "execution_count": null,
      "outputs": [
        {
          "output_type": "stream",
          "name": "stdout",
          "text": [
            "Error: The key 'city' does not exist in the dictionary.\n"
          ]
        }
      ]
    },
    {
      "cell_type": "code",
      "source": [
        "[12] #Write a program that demonstrates using multiple except blocks to handle different types of exceptions.\n",
        "\n",
        "try:\n",
        "    # Example 1: Division by zero\n",
        "    num = int(input(\"Enter a number: \"))\n",
        "    result = 10 / num\n",
        "\n",
        "    # Example 2: Accessing a missing key\n",
        "    my_dict = {\"name\": \"Alice\"}\n",
        "    print(\"Age:\", my_dict[\"age\"])\n",
        "\n",
        "except ZeroDivisionError:\n",
        "    print(\"Error: Cannot divide by zero.\")\n",
        "\n",
        "except KeyError:\n",
        "    print(\"Error: The specified key was not found in the dictionary.\")\n",
        "\n",
        "except ValueError:\n",
        "    print(\"Error: Please enter a valid integer.\")\n",
        "\n",
        "except Exception as e:\n",
        "    # Catch-all for unexpected exceptions\n",
        "    print(f\"An unexpected error occurred: {e}\")\n"
      ],
      "metadata": {
        "colab": {
          "base_uri": "https://localhost:8080/"
        },
        "id": "aXA5e3yn5Ez2",
        "outputId": "22dd2abe-35aa-427b-a95b-086e8568f954"
      },
      "execution_count": null,
      "outputs": [
        {
          "output_type": "stream",
          "name": "stdout",
          "text": [
            "Enter a number: 27\n",
            "Error: The specified key was not found in the dictionary.\n"
          ]
        }
      ]
    },
    {
      "cell_type": "code",
      "source": [
        "[13] #How would you check if a file exists before attempting to read it in Python?\n",
        "\n",
        "import os\n",
        "\n",
        "filename = \"example.txt\"\n",
        "\n",
        "if os.path.exists(filename):\n",
        "    with open(filename, \"r\") as file:\n",
        "        content = file.read()\n",
        "        print(content)\n",
        "else:\n",
        "    print(f\"Error: The file '{filename}' does not exist.\")\n"
      ],
      "metadata": {
        "colab": {
          "base_uri": "https://localhost:8080/"
        },
        "id": "zgshoKHv5UlM",
        "outputId": "a268d6a0-3c1b-4799-9f60-34a785cd09bc"
      },
      "execution_count": null,
      "outputs": [
        {
          "output_type": "stream",
          "name": "stdout",
          "text": [
            "\n",
            "This is a new line of text.\n",
            "This is a new line of text.\n"
          ]
        }
      ]
    },
    {
      "cell_type": "code",
      "source": [
        "[14] #Write a program that uses the logging module to log both informational and error messages.\n",
        "\n",
        "import logging\n",
        "\n",
        "# Configure logging\n",
        "logging.basicConfig(\n",
        "    filename=\"app.log\",               # Log output file\n",
        "    level=logging.DEBUG,              # Minimum log level\n",
        "    format=\"%(asctime)s - %(levelname)s - %(message)s\"\n",
        ")\n",
        "\n",
        "# Example usage\n",
        "logging.info(\"Program started successfully.\")\n",
        "\n",
        "try:\n",
        "    num1 = 10\n",
        "    num2 = 0\n",
        "    result = num1 / num2\n",
        "    logging.info(f\"Result: {result}\")\n",
        "except ZeroDivisionError as e:\n",
        "    logging.error(f\"Error occurred: {e}\")\n",
        "\n",
        "logging.info(\"Program finished.\")\n"
      ],
      "metadata": {
        "colab": {
          "base_uri": "https://localhost:8080/"
        },
        "id": "ImqmNkDA6AgK",
        "outputId": "bffad7f5-0e19-428d-f77a-970ada1563ed"
      },
      "execution_count": null,
      "outputs": [
        {
          "output_type": "stream",
          "name": "stderr",
          "text": [
            "ERROR:root:Error occurred: division by zero\n"
          ]
        }
      ]
    },
    {
      "cell_type": "code",
      "source": [
        "[15] #Write a Python program that prints the content of a file and handles the case when the file is empty.\n",
        "\n",
        "import os\n",
        "\n",
        "filename = \"sample.txt\"\n",
        "\n",
        "try:\n",
        "    if not os.path.exists(filename):\n",
        "        print(f\"Error: The file '{filename}' does not exist.\")\n",
        "    else:\n",
        "        # Check if file is empty\n",
        "        if os.path.getsize(filename) == 0:\n",
        "            print(\"The file is empty.\")\n",
        "        else:\n",
        "            with open(filename, \"r\") as file:\n",
        "                content = file.read()\n",
        "                print(\"File content:\")\n",
        "                print(content)\n",
        "except Exception as e:\n",
        "    print(f\"An error occurred: {e}\")\n"
      ],
      "metadata": {
        "colab": {
          "base_uri": "https://localhost:8080/"
        },
        "id": "7OHnEEAS6LRW",
        "outputId": "ff4f35b3-3fff-450a-9ff6-f7bd9141ac50"
      },
      "execution_count": null,
      "outputs": [
        {
          "output_type": "stream",
          "name": "stdout",
          "text": [
            "Error: The file 'sample.txt' does not exist.\n"
          ]
        }
      ]
    },
    {
      "cell_type": "code",
      "source": [
        "[16] #Demonstrate how to use memory profiling to check the memory usage of a small program."
      ],
      "metadata": {
        "id": "4ihDaMzQ8pIT"
      },
      "execution_count": null,
      "outputs": []
    },
    {
      "cell_type": "code",
      "source": [
        "[17] #Write a Python program to create and write a list of numbers to a file, one number per line.\n",
        "\n",
        "# Create a list of numbers\n",
        "numbers = [10, 20, 30, 40, 50]\n",
        "\n",
        "# File name\n",
        "filename = \"numbers.txt\"\n",
        "\n",
        "try:\n",
        "    # Open the file in write mode\n",
        "    with open(filename, \"w\") as file:\n",
        "        for num in numbers:\n",
        "            file.write(str(num) + \"\\n\")\n",
        "    print(f\"Numbers written successfully to {filename}\")\n",
        "except Exception as e:\n",
        "    print(f\"An error occurred: {e}\")\n"
      ],
      "metadata": {
        "colab": {
          "base_uri": "https://localhost:8080/"
        },
        "id": "gS9l5XkD81YF",
        "outputId": "696e5a73-88f8-4c02-ea9d-4e69e1053bee"
      },
      "execution_count": null,
      "outputs": [
        {
          "output_type": "stream",
          "name": "stdout",
          "text": [
            "Numbers written successfully to numbers.txt\n"
          ]
        }
      ]
    },
    {
      "cell_type": "code",
      "source": [
        "[19] #Write a program that handles both IndexError and KeyError using a try-except block.\n",
        "\n",
        "# Sample list and dictionary\n",
        "my_list = [1, 2, 3]\n",
        "my_dict = {\"a\": 10, \"b\": 20}\n",
        "\n",
        "try:\n",
        "    # Attempt to access an invalid list index\n",
        "    print(\"List element:\", my_list[5])\n",
        "\n",
        "    # Attempt to access a missing dictionary key\n",
        "    print(\"Dictionary value:\", my_dict[\"z\"])\n",
        "\n",
        "except IndexError as e:\n",
        "    print(f\"IndexError occurred: {e}\")\n",
        "\n",
        "except KeyError as e:\n",
        "    print(f\"KeyError occurred: {e}\")\n"
      ],
      "metadata": {
        "colab": {
          "base_uri": "https://localhost:8080/"
        },
        "id": "-KIDdhYn9zmO",
        "outputId": "ef883c71-cef7-440e-c514-45d2aa251fe3"
      },
      "execution_count": null,
      "outputs": [
        {
          "output_type": "stream",
          "name": "stdout",
          "text": [
            "IndexError occurred: list index out of range\n"
          ]
        }
      ]
    },
    {
      "cell_type": "code",
      "source": [
        "[20] #How would you open a file and read its contents using a context manager in Python?\n",
        "\n",
        "# Open and read a file using a context manager\n",
        "file_path = \"example.txt\"\n",
        "\n",
        "with open(file_path, \"r\") as file:\n",
        "    contents = file.read()\n",
        "\n",
        "print(contents)\n"
      ],
      "metadata": {
        "colab": {
          "base_uri": "https://localhost:8080/"
        },
        "id": "GAUNGU2C-Axu",
        "outputId": "ac6b4d81-a6f6-480c-b425-f2404b20c328"
      },
      "execution_count": null,
      "outputs": [
        {
          "output_type": "stream",
          "name": "stdout",
          "text": [
            "\n",
            "This is a new line of text.\n",
            "This is a new line of text.\n"
          ]
        }
      ]
    },
    {
      "cell_type": "code",
      "source": [
        "[21] # Write a Python program that reads a file and prints the number of occurrences of a specific word.\n",
        "\n",
        "# Program to count occurrences of a specific word in a file\n",
        "\n",
        "file_path = \"example.txt\"   # Change to your file name\n",
        "target_word = \"python\"      # Word to count (case-insensitive)\n",
        "\n",
        "# Open and read the file using a context manager\n",
        "with open(file_path, \"r\", encoding=\"utf-8\") as file:\n",
        "    contents = file.read()\n",
        "\n",
        "# Count occurrences (case-insensitive)\n",
        "word_count = contents.lower().split().count(target_word.lower())\n",
        "\n",
        "print(f\"The word '{target_word}' appears {word_count} times in the file.\")\n"
      ],
      "metadata": {
        "colab": {
          "base_uri": "https://localhost:8080/"
        },
        "id": "BuaTCsiv-Vaq",
        "outputId": "3db0b661-2fbf-45cf-9fb0-03942b4d05ad"
      },
      "execution_count": null,
      "outputs": [
        {
          "output_type": "stream",
          "name": "stdout",
          "text": [
            "The word 'python' appears 0 times in the file.\n"
          ]
        }
      ]
    },
    {
      "cell_type": "code",
      "source": [
        "[22] #How can you check if a file is empty before attempting to read its contents?\n",
        "\n",
        "import os\n",
        "\n",
        "file_path = \"example.txt\"\n",
        "\n",
        "if os.path.getsize(file_path) == 0:\n",
        "    print(\"The file is empty.\")\n",
        "else:\n",
        "    with open(file_path, \"r\", encoding=\"utf-8\") as file:\n",
        "        contents = file.read()\n",
        "        print(contents)\n"
      ],
      "metadata": {
        "colab": {
          "base_uri": "https://localhost:8080/"
        },
        "id": "7v4Ws0lD-hw_",
        "outputId": "796f57ad-b83d-414b-bc36-a2f73781d636"
      },
      "execution_count": null,
      "outputs": [
        {
          "output_type": "stream",
          "name": "stdout",
          "text": [
            "\n",
            "This is a new line of text.\n",
            "This is a new line of text.\n"
          ]
        }
      ]
    },
    {
      "cell_type": "code",
      "source": [
        "[23] #Write a Python program that writes to a log file when an error occurs during file handling.\n",
        "\n",
        "import logging\n",
        "\n",
        "# Configure logging\n",
        "logging.basicConfig(\n",
        "    filename=\"error.log\",          # Log file name\n",
        "    level=logging.ERROR,           # Only log errors or higher\n",
        "    format=\"%(asctime)s - %(levelname)s - %(message)s\"\n",
        ")\n",
        "\n",
        "file_path = \"example.txt\"\n",
        "\n",
        "try:\n",
        "    with open(file_path, \"r\", encoding=\"utf-8\") as file:\n",
        "        contents = file.read()\n",
        "        print(contents)\n",
        "\n",
        "except FileNotFoundError:\n",
        "    logging.error(f\"File not found: {file_path}\")\n",
        "    print(\"Error: The file does not exist.\")\n",
        "\n",
        "except PermissionError:\n",
        "    logging.error(f\"Permission denied: {file_path}\")\n",
        "    print(\"Error: You don't have permission to access this file.\")\n",
        "\n",
        "except Exception as e:\n",
        "    logging.error(f\"Unexpected error with file '{file_path}': {e}\")\n",
        "    print(\"An unexpected error occurred. Check the log for details.\")\n"
      ],
      "metadata": {
        "colab": {
          "base_uri": "https://localhost:8080/"
        },
        "id": "2L5DU6_P-u7r",
        "outputId": "6a392121-5b58-48cf-fa86-79a5bef260ff"
      },
      "execution_count": null,
      "outputs": [
        {
          "output_type": "stream",
          "name": "stdout",
          "text": [
            "\n",
            "This is a new line of text.\n",
            "This is a new line of text.\n"
          ]
        }
      ]
    }
  ]
}